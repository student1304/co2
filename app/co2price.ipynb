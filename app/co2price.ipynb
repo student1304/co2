{
 "cells": [
  {
   "cell_type": "code",
   "execution_count": 2,
   "metadata": {},
   "outputs": [],
   "source": [
    "import requests\n",
    "from sqlite_cache.sqlite_cache import SqliteCache\n",
    "cache = SqliteCache('../data/webcache')\n",
    "import time"
   ]
  },
  {
   "cell_type": "code",
   "execution_count": 3,
   "metadata": {},
   "outputs": [],
   "source": [
    "url = \"https://markets.businessinsider.com/commodities/co2-european-emission-allowances/euro\"\n"
   ]
  },
  {
   "cell_type": "code",
   "execution_count": 4,
   "metadata": {},
   "outputs": [],
   "source": [
    "r = requests.get(url)"
   ]
  },
  {
   "cell_type": "code",
   "execution_count": 5,
   "metadata": {},
   "outputs": [
    {
     "output_type": "execute_result",
     "data": {
      "text/plain": "200"
     },
     "metadata": {},
     "execution_count": 5
    }
   ],
   "source": [
    "r.status_code\n"
   ]
  },
  {
   "cell_type": "code",
   "execution_count": 6,
   "metadata": {},
   "outputs": [],
   "source": [
    "cache.set('2020-07-09', r)"
   ]
  },
  {
   "cell_type": "code",
   "execution_count": 7,
   "metadata": {},
   "outputs": [],
   "source": [
    "from bs4 import BeautifulSoup\n",
    "soup = BeautifulSoup(r.content, 'html.parser')"
   ]
  },
  {
   "cell_type": "code",
   "execution_count": 8,
   "metadata": {},
   "outputs": [],
   "source": [
    "a = soup.find('span', class_=\"aktien-big-font\")"
   ]
  },
  {
   "cell_type": "code",
   "execution_count": 9,
   "metadata": {},
   "outputs": [],
   "source": [
    "eua = float(a['data-jsvalue'])"
   ]
  },
  {
   "cell_type": "code",
   "execution_count": 11,
   "metadata": {},
   "outputs": [
    {
     "output_type": "execute_result",
     "data": {
      "text/plain": "25.5"
     },
     "metadata": {},
     "execution_count": 11
    }
   ],
   "source": [
    "eua"
   ]
  },
  {
   "cell_type": "code",
   "execution_count": 13,
   "metadata": {},
   "outputs": [],
   "source": [
    "cache.set('eua_2020-07-09', eua, timeout=2678400)"
   ]
  },
  {
   "cell_type": "code",
   "execution_count": 45,
   "metadata": {},
   "outputs": [
    {
     "data": {
      "text/plain": [
       "2678400"
      ]
     },
     "execution_count": 45,
     "metadata": {},
     "output_type": "execute_result"
    }
   ],
   "source": [
    "60*60*24*31 # 1 Month in seconds -> timeout"
   ]
  },
  {
   "cell_type": "code",
   "execution_count": 14,
   "metadata": {},
   "outputs": [
    {
     "output_type": "execute_result",
     "data": {
      "text/plain": "'eua_2020-47-09'"
     },
     "metadata": {},
     "execution_count": 14
    }
   ],
   "source": [
    "timestamp = time.strftime(\"%Y-%M-%d\", time.localtime())\n",
    "timestamp\n",
    "key = \"eua_\"+timestamp\n",
    "key"
   ]
  },
  {
   "cell_type": "code",
   "execution_count": 15,
   "metadata": {},
   "outputs": [],
   "source": [
    "from bs4 import BeautifulSoup\n",
    "import requests\n",
    "from sqlite_cache.sqlite_cache import SqliteCache\n",
    "import time\n",
    "\n",
    "cache = SqliteCache('../data/webcache')\n",
    "url = \"https://markets.businessinsider.com/commodities/co2-european-emission-allowances/euro\"\n",
    "timestamp = time.strftime(\"%Y-%M-%d\", time.localtime())\n",
    "key = \"eua_\"+timestamp\n",
    "\n",
    "def get_eua_price(key):\n",
    "    '''\n",
    "    Scrapes EUA price from website if not stored in Cache\n",
    "    '''\n",
    "    r = requests.get(url)\n",
    "    if r.status_code == 200:\n",
    "        soup = BeautifulSoup(r.content, 'html.parser')\n",
    "        a = soup.find('span', class_=\"aktien-big-font\")\n",
    "        eua = float(a['data-jsvalue'])\n",
    "        print('EUA today:', eua)\n",
    "        cache.set(key, eua)\n",
    "        return eua\n",
    "    if r.status_code != 200:\n",
    "        eua = 25.0 #update to get last available value of ask other source\n",
    "        return eua\n",
    "\n",
    "def fetch_eua_price(key='eua_'+time.strftime(\"%Y-%M-%d\", time.localtime())):\n",
    "    '''\n",
    "    Returns current EUA price. Checks local cache first, then requests website if not yet stored\n",
    "    \n",
    "    Usage: eua= return_eua_price(key)\n",
    "        default key is 'eua_YYYY-MM-DD', leave emtpy for default or enter other date\n",
    "    '''\n",
    "    eua = cache.get(key)\n",
    "    print(eua, 'in cache')\n",
    "    if eua is None:\n",
    "        print('requesting from website...')\n",
    "        eua = get_eua_price(key)\n",
    "    return eua\n",
    "\n"
   ]
  },
  {
   "cell_type": "code",
   "execution_count": 16,
   "metadata": {
    "tags": []
   },
   "outputs": [
    {
     "output_type": "stream",
     "name": "stdout",
     "text": "None in cache\nrequesting from website...\nEUA today: 25.5\n"
    }
   ],
   "source": [
    "price = fetch_eua_price()"
   ]
  },
  {
   "cell_type": "code",
   "execution_count": 17,
   "metadata": {},
   "outputs": [
    {
     "output_type": "execute_result",
     "data": {
      "text/plain": "25.5"
     },
     "metadata": {},
     "execution_count": 17
    }
   ],
   "source": [
    "price"
   ]
  },
  {
   "cell_type": "code",
   "execution_count": 18,
   "metadata": {},
   "outputs": [
    {
     "output_type": "error",
     "ename": "TypeError",
     "evalue": "get() missing 1 required positional argument: 'key'",
     "traceback": [
      "\u001b[1;31m---------------------------------------------------------------------------\u001b[0m",
      "\u001b[1;31mTypeError\u001b[0m                                 Traceback (most recent call last)",
      "\u001b[1;32m<ipython-input-18-084f672e43aa>\u001b[0m in \u001b[0;36m<module>\u001b[1;34m\u001b[0m\n\u001b[1;32m----> 1\u001b[1;33m \u001b[0mprint\u001b[0m\u001b[1;33m(\u001b[0m\u001b[0mcache\u001b[0m\u001b[1;33m.\u001b[0m\u001b[0mget\u001b[0m\u001b[1;33m(\u001b[0m\u001b[1;33m)\u001b[0m\u001b[1;33m)\u001b[0m\u001b[1;33m\u001b[0m\u001b[1;33m\u001b[0m\u001b[0m\n\u001b[0m",
      "\u001b[1;31mTypeError\u001b[0m: get() missing 1 required positional argument: 'key'"
     ]
    }
   ],
   "source": [
    "print(cache.get())"
   ]
  },
  {
   "cell_type": "code",
   "execution_count": null,
   "metadata": {},
   "outputs": [],
   "source": []
  }
 ],
 "metadata": {
  "kernelspec": {
   "display_name": "Python 3.7.7 64-bit ('co2': conda)",
   "language": "python",
   "name": "python37764bitco2condab8095bc8632a4cf0b5621618d112f8e0"
  },
  "language_info": {
   "codemirror_mode": {
    "name": "ipython",
    "version": 3
   },
   "file_extension": ".py",
   "mimetype": "text/x-python",
   "name": "python",
   "nbconvert_exporter": "python",
   "pygments_lexer": "ipython3",
   "version": "3.7.7-final"
  }
 },
 "nbformat": 4,
 "nbformat_minor": 2
}