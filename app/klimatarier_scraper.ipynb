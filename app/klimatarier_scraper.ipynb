{
 "cells": [
  {
   "cell_type": "code",
   "execution_count": 1,
   "metadata": {},
   "outputs": [],
   "source": [
    "# https://www.klimatarier.com/de/CO2_Rechner\n",
    "# build scraper for all stores values\n",
    "# ask for data: https://upfield.com/contact/"
   ]
  },
  {
   "cell_type": "code",
   "execution_count": 2,
   "metadata": {},
   "outputs": [],
   "source": [
    "from bs4 import BeautifulSoup\n",
    "import requests\n",
    "from sqlite_cache.sqlite_cache import SqliteCache\n",
    "import time\n",
    "\n",
    "cache = SqliteCache('../data/webcache')\n",
    "url = \"https://www.klimatarier.com/de/CO2_Rechner\"\n",
    "# build scraper for all stores values\n",
    "\n",
    "timestamp = time.strftime(\"%Y-%M-%d\", time.localtime())\n",
    "key = \"eua_\"+timestamp"
   ]
  },
  {
   "cell_type": "code",
   "execution_count": 6,
   "metadata": {},
   "outputs": [],
   "source": [
    "r = requests.get(url)\n",
    "if r.status_code == 200:"
   ]
  },
  {
   "cell_type": "code",
   "execution_count": 95,
   "metadata": {},
   "outputs": [],
   "source": [
    "with open('../data/klimatarier_right.html') as f:\n",
    "    html = f.read()\n",
    "soup = BeautifulSoup(html, 'html.parser')\n",
    "a = soup.find_all(class_=\"recipe-ing-name\")\n",
    "b = soup.find_all('li')\n",
    "c = soup.find_all(class_='plain-input')"
   ]
  },
  {
   "cell_type": "code",
   "execution_count": 96,
   "metadata": {},
   "outputs": [
    {
     "data": {
      "text/plain": [
       "(156, 156, 157)"
      ]
     },
     "execution_count": 96,
     "metadata": {},
     "output_type": "execute_result"
    }
   ],
   "source": [
    "len(a), len(b), len(c)"
   ]
  },
  {
   "cell_type": "code",
   "execution_count": 102,
   "metadata": {},
   "outputs": [
    {
     "data": {
      "text/plain": [
       "'1'"
      ]
     },
     "execution_count": 102,
     "metadata": {},
     "output_type": "execute_result"
    }
   ],
   "source": [
    "c[0]['value']"
   ]
  },
  {
   "cell_type": "code",
   "execution_count": 80,
   "metadata": {},
   "outputs": [
    {
     "data": {
      "text/plain": [
       "'Butter'"
      ]
     },
     "execution_count": 80,
     "metadata": {},
     "output_type": "execute_result"
    }
   ],
   "source": [
    "a[0].text"
   ]
  },
  {
   "cell_type": "code",
   "execution_count": 103,
   "metadata": {},
   "outputs": [],
   "source": [
    "products = []\n",
    "co2s = []\n",
    "units = []\n",
    "for i in range(len(a)):\n",
    "    product = a[i].text\n",
    "    products.append(product)\n",
    "    co2 = b[i]['title']\n",
    "    co2s.append(co2)\n",
    "    unit = c[i+1]['value']\n",
    "    units.append(unit)"
   ]
  },
  {
   "cell_type": "code",
   "execution_count": 61,
   "metadata": {},
   "outputs": [
    {
     "data": {
      "text/plain": [
       "['Butter',\n",
       " 'Pflanzencreme z.B. Rama Culinesse',\n",
       " 'Halbfettmargarine (max. 41 % Fett) z.B. LÃ¤tta',\n",
       " 'OlivenÃ¶l',\n",
       " 'Butter & Margarine (Melanges) z.B. Rama mit Butter',\n",
       " 'Palmfett zum Braten',\n",
       " 'SonnenblumenÃ¶l',\n",
       " 'RapsÃ¶l',\n",
       " 'Vollfettmargarine (min. 80% Fett) z.B. Flora',\n",
       " 'Veganes Streichfett z.B. Becel vegan',\n",
       " 'Fisch (frisch)',\n",
       " 'Fisch (gefroren)',\n",
       " 'Garnelen (gefroren)',\n",
       " 'Kabeljau',\n",
       " 'Makrele',\n",
       " 'Rotbarsch',\n",
       " 'Lachs',\n",
       " 'Forelle',\n",
       " 'Muscheln',\n",
       " 'Hering',\n",
       " 'Eier',\n",
       " 'Frikadellen',\n",
       " 'Hamburger Patty (gefroren)',\n",
       " 'HÃ¤hnchenfleisch, frisch',\n",
       " 'HÃ¤hnchenfleisch (gefroren)',\n",
       " 'Hackfleisch, gemischt',\n",
       " 'Putenfleisch',\n",
       " 'Schweinefleisch',\n",
       " 'Rindfleisch',\n",
       " 'Lamm',\n",
       " 'Wurst',\n",
       " 'Wildfleisch',\n",
       " 'WÃ¼rstchen',\n",
       " 'Blumenkohl',\n",
       " 'Aubergine',\n",
       " 'Brokkoli (gefroren)',\n",
       " 'Champignons (Dose)',\n",
       " 'Feldsalat',\n",
       " 'Eisbergsalat',\n",
       " 'Champignon (hell oder dunkel)',\n",
       " 'Brokkoli',\n",
       " 'GrÃ¼nkohl (Glas)',\n",
       " 'Fenchel',\n",
       " 'Gurke',\n",
       " 'Kartoffeln',\n",
       " 'Karotte/MÃ¶hre',\n",
       " 'GrÃ¼nkohl, frisch',\n",
       " 'Kirschtomaten',\n",
       " 'Kohlrabi',\n",
       " 'Lauch',\n",
       " 'KÃ¼rbis',\n",
       " 'Paprika',\n",
       " 'Rosenkohl, frisch',\n",
       " 'Mais (Dose)',\n",
       " 'Rettich ',\n",
       " 'Rote Beete (Glas)',\n",
       " 'Rosenkohl, gefroren',\n",
       " 'Rotkohl (frisch)',\n",
       " 'Rucola',\n",
       " 'Rote Beete, frisch',\n",
       " 'Rotkohl (Glas)',\n",
       " 'Sellerie',\n",
       " 'Salatmischung, gewaschen',\n",
       " 'Spargel, grÃ¼n',\n",
       " 'Spargel, weiÃŸ',\n",
       " 'Spinat, frisch',\n",
       " 'Spinat (gefroren)',\n",
       " 'Tomate',\n",
       " 'Tomate (GewÃ¤chshaus)',\n",
       " 'SÃ¼ÃŸkartoffel',\n",
       " 'Tomate (Dose)',\n",
       " 'Wirsing',\n",
       " 'WeiÃŸkohl',\n",
       " 'Zwiebeln',\n",
       " 'Zucchini',\n",
       " 'BrÃ¶tchen, Vollkorn',\n",
       " 'BrÃ¶tchen, WeiÃŸmehl',\n",
       " 'Couscous',\n",
       " 'Hirse',\n",
       " 'Nudeln',\n",
       " 'Quinoa',\n",
       " 'Toast',\n",
       " 'Bulgur',\n",
       " 'Haferflocken',\n",
       " 'KnÃ¤ckebrot',\n",
       " 'Nudeln, Vollkorn',\n",
       " 'Toast, Vollkorn',\n",
       " 'Vollkornbrot',\n",
       " 'Weizenmehl',\n",
       " 'WeiÃŸbrot',\n",
       " 'Bohnen',\n",
       " 'Bohnen (Dose)',\n",
       " 'Kichererbsen (Dose)',\n",
       " 'Erbsen, grÃ¼n (Dose)',\n",
       " 'Erbsen, grÃ¼n',\n",
       " 'ErdnÃ¼sse, ganz',\n",
       " 'Linsen (Dose)',\n",
       " 'Leinsamen',\n",
       " 'Tofu',\n",
       " 'Linsen, getrocknet',\n",
       " 'WalnÃ¼sse, ganz',\n",
       " 'Buttermilch',\n",
       " 'FrischkÃ¤se',\n",
       " 'Creme Fraiche (min. 30% Fett)',\n",
       " 'Joghurt',\n",
       " 'FetakÃ¤se',\n",
       " 'H-Milch',\n",
       " 'KÃ¤se',\n",
       " 'Kochcreme (15% Fett) z.B. Rama Cremefine zum Kochen',\n",
       " 'Milch',\n",
       " 'Magerquark',\n",
       " 'Quark (40 % Fett)',\n",
       " 'Mozzarella',\n",
       " 'Sahne Alternative (19 % Fett) z.B. Rama Cremefine zum Aufschlagen',\n",
       " 'Sahne',\n",
       " 'Schmand (mind. 20 % Fett)',\n",
       " 'Saure Sahne (min. 10 % Fett)',\n",
       " 'Birne',\n",
       " 'Avocado',\n",
       " 'Aprikosen (Dose)',\n",
       " 'Ananas, frisch',\n",
       " 'Ananas (Dose)',\n",
       " 'Apfel',\n",
       " 'Aprikosen, frisch',\n",
       " 'Banane',\n",
       " 'Erdbeeren (gefroren)',\n",
       " 'Brombeeren',\n",
       " 'Erdbeeren, frisch',\n",
       " 'Feigen',\n",
       " 'Heidelbeeren (gefroren)',\n",
       " 'Granatapfel',\n",
       " 'Himbeere, frisch',\n",
       " 'Heidelbeeren, frisch',\n",
       " 'Kirschen',\n",
       " 'Himbeere, gefroren',\n",
       " 'Mango',\n",
       " 'Kiwi',\n",
       " 'Nektarine',\n",
       " 'Maracuja /Passionsfrucht',\n",
       " 'Oliven',\n",
       " 'Orange / Apfelsine',\n",
       " 'Pfirsich (Dose)',\n",
       " 'Pfirsich',\n",
       " 'Rosinen',\n",
       " 'Pflaume',\n",
       " 'Wassermelone',\n",
       " 'Stachelbeeren',\n",
       " 'Zitrone',\n",
       " 'Weintrauben',\n",
       " 'Zucker',\n",
       " 'RinderbrÃ¼he',\n",
       " 'Kokosmilch',\n",
       " 'HÃ¼hnerbrÃ¼he',\n",
       " 'Soja Drink',\n",
       " 'Honig',\n",
       " 'GemÃ¼sebrÃ¼he']"
      ]
     },
     "execution_count": 61,
     "metadata": {},
     "output_type": "execute_result"
    }
   ],
   "source": [
    "products"
   ]
  },
  {
   "cell_type": "code",
   "execution_count": 94,
   "metadata": {},
   "outputs": [
    {
     "ename": "KeyError",
     "evalue": "'value'",
     "output_type": "error",
     "traceback": [
      "\u001b[1;31m---------------------------------------------------------------------------\u001b[0m",
      "\u001b[1;31mKeyError\u001b[0m                                  Traceback (most recent call last)",
      "\u001b[1;32m<ipython-input-94-03e9dc2ff86c>\u001b[0m in \u001b[0;36m<module>\u001b[1;34m\u001b[0m\n\u001b[1;32m----> 1\u001b[1;33m \u001b[0mb\u001b[0m\u001b[1;33m[\u001b[0m\u001b[1;36m0\u001b[0m\u001b[1;33m]\u001b[0m\u001b[1;33m[\u001b[0m\u001b[1;34m'value'\u001b[0m\u001b[1;33m]\u001b[0m\u001b[1;33m\u001b[0m\u001b[1;33m\u001b[0m\u001b[0m\n\u001b[0m",
      "\u001b[1;32m~\\Anaconda3\\envs\\co2\\lib\\site-packages\\bs4\\element.py\u001b[0m in \u001b[0;36m__getitem__\u001b[1;34m(self, key)\u001b[0m\n\u001b[0;32m   1399\u001b[0m         \"\"\"tag[key] returns the value of the 'key' attribute for the Tag,\n\u001b[0;32m   1400\u001b[0m         and throws an exception if it's not there.\"\"\"\n\u001b[1;32m-> 1401\u001b[1;33m         \u001b[1;32mreturn\u001b[0m \u001b[0mself\u001b[0m\u001b[1;33m.\u001b[0m\u001b[0mattrs\u001b[0m\u001b[1;33m[\u001b[0m\u001b[0mkey\u001b[0m\u001b[1;33m]\u001b[0m\u001b[1;33m\u001b[0m\u001b[1;33m\u001b[0m\u001b[0m\n\u001b[0m\u001b[0;32m   1402\u001b[0m \u001b[1;33m\u001b[0m\u001b[0m\n\u001b[0;32m   1403\u001b[0m     \u001b[1;32mdef\u001b[0m \u001b[0m__iter__\u001b[0m\u001b[1;33m(\u001b[0m\u001b[0mself\u001b[0m\u001b[1;33m)\u001b[0m\u001b[1;33m:\u001b[0m\u001b[1;33m\u001b[0m\u001b[1;33m\u001b[0m\u001b[0m\n",
      "\u001b[1;31mKeyError\u001b[0m: 'value'"
     ]
    }
   ],
   "source": [
    "b[0]['value']"
   ]
  },
  {
   "cell_type": "code",
   "execution_count": 82,
   "metadata": {},
   "outputs": [
    {
     "data": {
      "text/plain": [
       "(156, 156)"
      ]
     },
     "execution_count": 82,
     "metadata": {},
     "output_type": "execute_result"
    }
   ],
   "source": [
    "len(a), len(b)"
   ]
  },
  {
   "cell_type": "code",
   "execution_count": 84,
   "metadata": {},
   "outputs": [],
   "source": [
    "import pandas as pd"
   ]
  },
  {
   "cell_type": "code",
   "execution_count": 114,
   "metadata": {},
   "outputs": [],
   "source": [
    "df = pd.DataFrame()\n",
    "df['products']=products\n",
    "df['co2']=co2s\n",
    "df['units']=units"
   ]
  },
  {
   "cell_type": "code",
   "execution_count": 115,
   "metadata": {},
   "outputs": [],
   "source": [
    "df.index = range(len(a))"
   ]
  },
  {
   "cell_type": "code",
   "execution_count": 116,
   "metadata": {},
   "outputs": [],
   "source": [
    "df.to_csv('../data/products.csv')"
   ]
  },
  {
   "cell_type": "code",
   "execution_count": 117,
   "metadata": {},
   "outputs": [
    {
     "data": {
      "text/html": [
       "<div>\n",
       "<style scoped>\n",
       "    .dataframe tbody tr th:only-of-type {\n",
       "        vertical-align: middle;\n",
       "    }\n",
       "\n",
       "    .dataframe tbody tr th {\n",
       "        vertical-align: top;\n",
       "    }\n",
       "\n",
       "    .dataframe thead th {\n",
       "        text-align: right;\n",
       "    }\n",
       "</style>\n",
       "<table border=\"1\" class=\"dataframe\">\n",
       "  <thead>\n",
       "    <tr style=\"text-align: right;\">\n",
       "      <th></th>\n",
       "      <th>products</th>\n",
       "      <th>co2</th>\n",
       "      <th>units</th>\n",
       "    </tr>\n",
       "  </thead>\n",
       "  <tbody>\n",
       "    <tr>\n",
       "      <th>count</th>\n",
       "      <td>156</td>\n",
       "      <td>156</td>\n",
       "      <td>156</td>\n",
       "    </tr>\n",
       "    <tr>\n",
       "      <th>unique</th>\n",
       "      <td>156</td>\n",
       "      <td>46</td>\n",
       "      <td>1</td>\n",
       "    </tr>\n",
       "    <tr>\n",
       "      <th>top</th>\n",
       "      <td>Soja Drink</td>\n",
       "      <td>0,03 kg CO2</td>\n",
       "      <td>100</td>\n",
       "    </tr>\n",
       "    <tr>\n",
       "      <th>freq</th>\n",
       "      <td>1</td>\n",
       "      <td>18</td>\n",
       "      <td>156</td>\n",
       "    </tr>\n",
       "  </tbody>\n",
       "</table>\n",
       "</div>"
      ],
      "text/plain": [
       "          products          co2 units\n",
       "count          156          156   156\n",
       "unique         156           46     1\n",
       "top     Soja Drink  0,03 kg CO2   100\n",
       "freq             1           18   156"
      ]
     },
     "execution_count": 117,
     "metadata": {},
     "output_type": "execute_result"
    }
   ],
   "source": [
    "df.describe()"
   ]
  },
  {
   "cell_type": "code",
   "execution_count": 108,
   "metadata": {},
   "outputs": [],
   "source": []
  }
 ],
 "metadata": {
  "kernelspec": {
   "display_name": "Python 3.7.7 64-bit ('co2': conda)",
   "language": "python",
   "name": "python37764bitco2condab8095bc8632a4cf0b5621618d112f8e0"
  },
  "language_info": {
   "codemirror_mode": {
    "name": "ipython",
    "version": 3
   },
   "file_extension": ".py",
   "mimetype": "text/x-python",
   "name": "python",
   "nbconvert_exporter": "python",
   "pygments_lexer": "ipython3",
   "version": "3.7.7"
  }
 },
 "nbformat": 4,
 "nbformat_minor": 2
}
